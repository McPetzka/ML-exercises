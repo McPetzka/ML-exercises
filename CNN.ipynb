{
 "cells": [
  {
   "cell_type": "code",
   "execution_count": 1,
   "metadata": {},
   "outputs": [],
   "source": [
    "import tensorflow as tf\n",
    "from keras.preprocessing.image import ImageDataGenerator"
   ]
  },
  {
   "cell_type": "code",
   "execution_count": 4,
   "metadata": {},
   "outputs": [
    {
     "name": "stdout",
     "output_type": "stream",
     "text": [
      "Found 8000 images belonging to 2 classes.\n"
     ]
    }
   ],
   "source": [
    "train_datagen = ImageDataGenerator(rescale = 1./255,\n",
    "                                   shear_range = 0.2,\n",
    "                                   zoom_range = 0.2,\n",
    "                                   horizontal_flip = True)\n",
    "\n",
    "training_set = train_datagen.flow_from_directory(r'C:\\Users\\48797\\ML\\Section 40 - Convolutional Neural Networks (CNN)\\dataset\\training_set',\n",
    "                                                 target_size = (64, 64),\n",
    "                                                 batch_size = 32,\n",
    "                                                 class_mode = 'binary')\n"
   ]
  },
  {
   "cell_type": "code",
   "execution_count": 5,
   "metadata": {},
   "outputs": [
    {
     "name": "stdout",
     "output_type": "stream",
     "text": [
      "Found 2000 images belonging to 2 classes.\n"
     ]
    }
   ],
   "source": [
    "test_datagen = ImageDataGenerator(rescale = 1./255)\n",
    "test_set = test_datagen.flow_from_directory(r'C:\\Users\\48797\\ML\\Section 40 - Convolutional Neural Networks (CNN)\\dataset\\test_set',\n",
    "                                            target_size = (64, 64),\n",
    "                                            batch_size = 32,\n",
    "                                            class_mode = 'binary')"
   ]
  },
  {
   "cell_type": "code",
   "execution_count": 6,
   "metadata": {},
   "outputs": [],
   "source": [
    "cnn= tf.keras.models.Sequential()"
   ]
  },
  {
   "cell_type": "code",
   "execution_count": 8,
   "metadata": {},
   "outputs": [],
   "source": [
    "cnn.add(tf.keras.layers.Conv2D(filters=32, kernel_size=3, activation='relu',input_shape=[64,64,3]))"
   ]
  },
  {
   "cell_type": "code",
   "execution_count": 10,
   "metadata": {},
   "outputs": [],
   "source": [
    "cnn.add(tf.keras.layers.MaxPool2D(pool_size=2,strides=2,))"
   ]
  },
  {
   "cell_type": "code",
   "execution_count": 11,
   "metadata": {},
   "outputs": [],
   "source": [
    "cnn.add(tf.keras.layers.Conv2D(filters=32, kernel_size=3, activation='relu'))\n",
    "cnn.add(tf.keras.layers.MaxPool2D(pool_size=2,strides=2,))"
   ]
  },
  {
   "cell_type": "code",
   "execution_count": 12,
   "metadata": {},
   "outputs": [],
   "source": [
    "cnn.add(tf.keras.layers.Flatten())"
   ]
  },
  {
   "cell_type": "code",
   "execution_count": 13,
   "metadata": {},
   "outputs": [],
   "source": [
    "cnn.add(tf.keras.layers.Dense(units=128,activation='relu'))"
   ]
  },
  {
   "cell_type": "code",
   "execution_count": 14,
   "metadata": {},
   "outputs": [],
   "source": [
    "cnn.add(tf.keras.layers.Dense(units=1,activation='sigmoid'))"
   ]
  },
  {
   "cell_type": "code",
   "execution_count": 18,
   "metadata": {},
   "outputs": [],
   "source": [
    "cnn.compile(optimizer='adam',loss='binary_crossentropy',metrics=['accuracy'])"
   ]
  },
  {
   "cell_type": "code",
   "execution_count": 19,
   "metadata": {},
   "outputs": [
    {
     "name": "stdout",
     "output_type": "stream",
     "text": [
      "Epoch 1/25\n",
      "250/250 [==============================] - 40s 160ms/step - loss: 0.6802 - accuracy: 0.5666 - val_loss: 0.6420 - val_accuracy: 0.6405\n",
      "Epoch 2/25\n",
      "250/250 [==============================] - 39s 154ms/step - loss: 0.6186 - accuracy: 0.6628 - val_loss: 0.6101 - val_accuracy: 0.6675\n",
      "Epoch 3/25\n",
      "250/250 [==============================] - 36s 144ms/step - loss: 0.5871 - accuracy: 0.6874 - val_loss: 0.5482 - val_accuracy: 0.7320\n",
      "Epoch 4/25\n",
      "250/250 [==============================] - 37s 147ms/step - loss: 0.5558 - accuracy: 0.7154 - val_loss: 0.5968 - val_accuracy: 0.7000\n",
      "Epoch 5/25\n",
      "250/250 [==============================] - 36s 145ms/step - loss: 0.5241 - accuracy: 0.7356 - val_loss: 0.5124 - val_accuracy: 0.7615\n",
      "Epoch 6/25\n",
      "250/250 [==============================] - 36s 145ms/step - loss: 0.5007 - accuracy: 0.7506 - val_loss: 0.4951 - val_accuracy: 0.7635\n",
      "Epoch 7/25\n",
      "250/250 [==============================] - 37s 150ms/step - loss: 0.4851 - accuracy: 0.7684 - val_loss: 0.5173 - val_accuracy: 0.7370\n",
      "Epoch 8/25\n",
      "250/250 [==============================] - 38s 151ms/step - loss: 0.4598 - accuracy: 0.7785 - val_loss: 0.5110 - val_accuracy: 0.7620\n",
      "Epoch 9/25\n",
      "250/250 [==============================] - 38s 150ms/step - loss: 0.4456 - accuracy: 0.7894 - val_loss: 0.4864 - val_accuracy: 0.7835\n",
      "Epoch 10/25\n",
      "250/250 [==============================] - 37s 148ms/step - loss: 0.4315 - accuracy: 0.7946 - val_loss: 0.4833 - val_accuracy: 0.7830\n",
      "Epoch 11/25\n",
      "250/250 [==============================] - 38s 151ms/step - loss: 0.4225 - accuracy: 0.8049 - val_loss: 0.5292 - val_accuracy: 0.7520\n",
      "Epoch 12/25\n",
      "250/250 [==============================] - 37s 148ms/step - loss: 0.4064 - accuracy: 0.8114 - val_loss: 0.4766 - val_accuracy: 0.7830\n",
      "Epoch 13/25\n",
      "250/250 [==============================] - 34s 135ms/step - loss: 0.3865 - accuracy: 0.8227 - val_loss: 0.4665 - val_accuracy: 0.7885\n",
      "Epoch 14/25\n",
      "250/250 [==============================] - 34s 138ms/step - loss: 0.3827 - accuracy: 0.8239 - val_loss: 0.4812 - val_accuracy: 0.7860\n",
      "Epoch 15/25\n",
      "250/250 [==============================] - 37s 148ms/step - loss: 0.3649 - accuracy: 0.8360 - val_loss: 0.4602 - val_accuracy: 0.7960\n",
      "Epoch 16/25\n",
      "250/250 [==============================] - 37s 148ms/step - loss: 0.3538 - accuracy: 0.8425 - val_loss: 0.4893 - val_accuracy: 0.7825\n",
      "Epoch 17/25\n",
      "250/250 [==============================] - 36s 145ms/step - loss: 0.3396 - accuracy: 0.8479 - val_loss: 0.5073 - val_accuracy: 0.7815\n",
      "Epoch 18/25\n",
      "250/250 [==============================] - 35s 142ms/step - loss: 0.3325 - accuracy: 0.8508 - val_loss: 0.4878 - val_accuracy: 0.7880\n",
      "Epoch 19/25\n",
      "250/250 [==============================] - 37s 146ms/step - loss: 0.3022 - accuracy: 0.8712 - val_loss: 0.4851 - val_accuracy: 0.7910\n",
      "Epoch 20/25\n",
      "250/250 [==============================] - 34s 137ms/step - loss: 0.2944 - accuracy: 0.8742 - val_loss: 0.5084 - val_accuracy: 0.7800\n",
      "Epoch 21/25\n",
      "250/250 [==============================] - 36s 144ms/step - loss: 0.2811 - accuracy: 0.8840 - val_loss: 0.5861 - val_accuracy: 0.7585\n",
      "Epoch 22/25\n",
      "250/250 [==============================] - 35s 139ms/step - loss: 0.2723 - accuracy: 0.8838 - val_loss: 0.5009 - val_accuracy: 0.7945\n",
      "Epoch 23/25\n",
      "250/250 [==============================] - 37s 148ms/step - loss: 0.2525 - accuracy: 0.8961 - val_loss: 0.5699 - val_accuracy: 0.7725\n",
      "Epoch 24/25\n",
      "250/250 [==============================] - 37s 147ms/step - loss: 0.2434 - accuracy: 0.8980 - val_loss: 0.5419 - val_accuracy: 0.7780\n",
      "Epoch 25/25\n",
      "250/250 [==============================] - 37s 148ms/step - loss: 0.2286 - accuracy: 0.9046 - val_loss: 0.5612 - val_accuracy: 0.7965\n"
     ]
    },
    {
     "data": {
      "text/plain": [
       "<tensorflow.python.keras.callbacks.History at 0x28868132e48>"
      ]
     },
     "execution_count": 19,
     "metadata": {},
     "output_type": "execute_result"
    }
   ],
   "source": [
    "cnn.fit(x=training_set,validation_data= test_set, epochs= 25)"
   ]
  },
  {
   "cell_type": "code",
   "execution_count": 21,
   "metadata": {},
   "outputs": [
    {
     "name": "stdout",
     "output_type": "stream",
     "text": [
      "dog\n"
     ]
    }
   ],
   "source": [
    "import numpy as np\n",
    "from keras.preprocessing import image\n",
    "\n",
    "test_image= image.load_img(r'C:\\Users\\48797\\ML\\Section 40 - Convolutional Neural Networks (CNN)\\dataset\\single_prediction\\cat_or_dog_1.jpg',target_size =(64,64,3))\n",
    "test_image= image.img_to_array(test_image)\n",
    "test_image = np.expand_dims(test_image,axis=0)\n",
    "result= cnn.predict(test_image)\n",
    "training_set.class_indices\n",
    "\n",
    "if result[0][0] == 1:\n",
    "    prediction='dog'\n",
    "else:\n",
    "    prediction ='cat'\n",
    "\n",
    "print(prediction)\n"
   ]
  },
  {
   "cell_type": "code",
   "execution_count": null,
   "metadata": {},
   "outputs": [],
   "source": []
  }
 ],
 "metadata": {
  "kernelspec": {
   "display_name": "Python 3",
   "language": "python",
   "name": "python3"
  },
  "language_info": {
   "codemirror_mode": {
    "name": "ipython",
    "version": 3
   },
   "file_extension": ".py",
   "mimetype": "text/x-python",
   "name": "python",
   "nbconvert_exporter": "python",
   "pygments_lexer": "ipython3",
   "version": "3.7.6"
  }
 },
 "nbformat": 4,
 "nbformat_minor": 4
}
